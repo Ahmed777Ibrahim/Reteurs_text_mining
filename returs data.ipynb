{
 "cells": [
  {
   "cell_type": "markdown",
   "id": "c2212f0d-27de-4e01-9fe5-1b7f27771b1f",
   "metadata": {},
   "source": [
    "## load data and main preparing"
   ]
  },
  {
   "cell_type": "code",
   "execution_count": 1,
   "id": "5d6a78b7-776e-4940-9e45-0f0181c3ef50",
   "metadata": {
    "tags": []
   },
   "outputs": [
    {
     "data": {
      "text/html": [
       "<div>\n",
       "<style scoped>\n",
       "    .dataframe tbody tr th:only-of-type {\n",
       "        vertical-align: middle;\n",
       "    }\n",
       "\n",
       "    .dataframe tbody tr th {\n",
       "        vertical-align: top;\n",
       "    }\n",
       "\n",
       "    .dataframe thead th {\n",
       "        text-align: right;\n",
       "    }\n",
       "</style>\n",
       "<table border=\"1\" class=\"dataframe\">\n",
       "  <thead>\n",
       "    <tr style=\"text-align: right;\">\n",
       "      <th></th>\n",
       "      <th>REUTERS TOPICS</th>\n",
       "      <th>TOPICS</th>\n",
       "      <th>TITLE</th>\n",
       "      <th>BODY</th>\n",
       "    </tr>\n",
       "  </thead>\n",
       "  <tbody>\n",
       "    <tr>\n",
       "      <th>0</th>\n",
       "      <td>YES</td>\n",
       "      <td>cocoa</td>\n",
       "      <td>BAHIA COCOA REVIEW</td>\n",
       "      <td>Showers continued throughout the week in the B...</td>\n",
       "    </tr>\n",
       "    <tr>\n",
       "      <th>1</th>\n",
       "      <td>YES</td>\n",
       "      <td>grain</td>\n",
       "      <td>NATIONAL AVERAGE PRICES FOR FARMER-OWNED RESERVE</td>\n",
       "      <td>The US Agriculture Department reported the far...</td>\n",
       "    </tr>\n",
       "    <tr>\n",
       "      <th>2</th>\n",
       "      <td>YES</td>\n",
       "      <td>veg-oil</td>\n",
       "      <td>ARGENTINE 1986/87 GRAIN/OILSEED REGISTRATIONS</td>\n",
       "      <td>Argentine grain board figures show crop regist...</td>\n",
       "    </tr>\n",
       "    <tr>\n",
       "      <th>3</th>\n",
       "      <td>YES</td>\n",
       "      <td>none</td>\n",
       "      <td>USX &lt;X&gt; DEBT DOWGRADED BY MOODY'S</td>\n",
       "      <td>Moodys Investors Service Inc said it lowered t...</td>\n",
       "    </tr>\n",
       "    <tr>\n",
       "      <th>4</th>\n",
       "      <td>YES</td>\n",
       "      <td>earn</td>\n",
       "      <td>CHAMPION PRODUCTS &lt;CH&gt; APPROVES STOCK SPLIT</td>\n",
       "      <td>Champion Products Inc said its board of direct...</td>\n",
       "    </tr>\n",
       "    <tr>\n",
       "      <th>5</th>\n",
       "      <td>YES</td>\n",
       "      <td>acq</td>\n",
       "      <td>COMPUTER TERMINAL SYSTEMS &lt;CPML&gt; COMPLETES SALE</td>\n",
       "      <td>Computer Terminal Systems Inc said it has comp...</td>\n",
       "    </tr>\n",
       "    <tr>\n",
       "      <th>6</th>\n",
       "      <td>YES</td>\n",
       "      <td>earn</td>\n",
       "      <td>COBANCO INC &lt;CBCO&gt; YEAR NET</td>\n",
       "      <td>Shr 34 cts vs 119 dlrs Net 807000 vs 2858000 A...</td>\n",
       "    </tr>\n",
       "  </tbody>\n",
       "</table>\n",
       "</div>"
      ],
      "text/plain": [
       "  REUTERS TOPICS   TOPICS                                             TITLE  \\\n",
       "0            YES    cocoa                                BAHIA COCOA REVIEW   \n",
       "1            YES    grain  NATIONAL AVERAGE PRICES FOR FARMER-OWNED RESERVE   \n",
       "2            YES  veg-oil     ARGENTINE 1986/87 GRAIN/OILSEED REGISTRATIONS   \n",
       "3            YES     none                 USX <X> DEBT DOWGRADED BY MOODY'S   \n",
       "4            YES     earn       CHAMPION PRODUCTS <CH> APPROVES STOCK SPLIT   \n",
       "5            YES      acq   COMPUTER TERMINAL SYSTEMS <CPML> COMPLETES SALE   \n",
       "6            YES     earn                       COBANCO INC <CBCO> YEAR NET   \n",
       "\n",
       "                                                BODY  \n",
       "0  Showers continued throughout the week in the B...  \n",
       "1  The US Agriculture Department reported the far...  \n",
       "2  Argentine grain board figures show crop regist...  \n",
       "3  Moodys Investors Service Inc said it lowered t...  \n",
       "4  Champion Products Inc said its board of direct...  \n",
       "5  Computer Terminal Systems Inc said it has comp...  \n",
       "6  Shr 34 cts vs 119 dlrs Net 807000 vs 2858000 A...  "
      ]
     },
     "execution_count": 1,
     "metadata": {},
     "output_type": "execute_result"
    }
   ],
   "source": [
    "import pandas as pd\n",
    "data=pd.read_csv(\"reuters_data.csv\")\n",
    "data.head(7)"
   ]
  },
  {
   "cell_type": "code",
   "execution_count": 2,
   "id": "f8b2f3dc-1084-4d21-9e0d-b9072b867737",
   "metadata": {
    "tags": []
   },
   "outputs": [
    {
     "data": {
      "text/plain": [
       "12924"
      ]
     },
     "execution_count": 2,
     "metadata": {},
     "output_type": "execute_result"
    }
   ],
   "source": [
    "data=data.dropna()\n",
    "data=data.drop_duplicates()\n",
    "len(data)"
   ]
  },
  {
   "cell_type": "code",
   "execution_count": 3,
   "id": "33566f96-7e7f-47b4-adcd-b48a9c16a91c",
   "metadata": {
    "tags": []
   },
   "outputs": [
    {
     "name": "stdout",
     "output_type": "stream",
     "text": [
      "5\n"
     ]
    },
    {
     "data": {
      "text/plain": [
       "12919"
      ]
     },
     "execution_count": 3,
     "metadata": {},
     "output_type": "execute_result"
    }
   ],
   "source": [
    "print(len(data[data['REUTERS TOPICS']!='YES']))\n",
    "#only 5 rows ,so may be incorrect data so remove the rows\n",
    "data = data[data['REUTERS TOPICS'] == 'YES']\n",
    "len(data)"
   ]
  },
  {
   "cell_type": "code",
   "execution_count": 4,
   "id": "8350d428-4233-423f-b048-d47ef7c90691",
   "metadata": {},
   "outputs": [],
   "source": [
    "#all REUTERS TOPICS is YES so drop unnecessary column\n",
    "data = data.drop('REUTERS TOPICS', axis=1)\n"
   ]
  },
  {
   "cell_type": "code",
   "execution_count": 5,
   "id": "2841be1b-8db3-4f5a-b977-1d0a69d91757",
   "metadata": {
    "tags": []
   },
   "outputs": [
    {
     "data": {
      "text/html": [
       "<div>\n",
       "<style scoped>\n",
       "    .dataframe tbody tr th:only-of-type {\n",
       "        vertical-align: middle;\n",
       "    }\n",
       "\n",
       "    .dataframe tbody tr th {\n",
       "        vertical-align: top;\n",
       "    }\n",
       "\n",
       "    .dataframe thead th {\n",
       "        text-align: right;\n",
       "    }\n",
       "</style>\n",
       "<table border=\"1\" class=\"dataframe\">\n",
       "  <thead>\n",
       "    <tr style=\"text-align: right;\">\n",
       "      <th></th>\n",
       "      <th>TOPICS</th>\n",
       "      <th>TITLE</th>\n",
       "      <th>BODY</th>\n",
       "    </tr>\n",
       "  </thead>\n",
       "  <tbody>\n",
       "    <tr>\n",
       "      <th>3</th>\n",
       "      <td>none</td>\n",
       "      <td>USX &lt;X&gt; DEBT DOWGRADED BY MOODY'S</td>\n",
       "      <td>Moodys Investors Service Inc said it lowered t...</td>\n",
       "    </tr>\n",
       "    <tr>\n",
       "      <th>12</th>\n",
       "      <td>none</td>\n",
       "      <td>HUGHES CAPITAL UNIT SIGNS PACT WITH BEAR STEARNS</td>\n",
       "      <td>HughesConserdyne Corp a unit of Hughes Capital...</td>\n",
       "    </tr>\n",
       "    <tr>\n",
       "      <th>16</th>\n",
       "      <td>none</td>\n",
       "      <td>BANKERS REPORT BREAKTHROUGH ON VENEZUELAN DEBT</td>\n",
       "      <td>Venezuela and its bank advisory committee have...</td>\n",
       "    </tr>\n",
       "    <tr>\n",
       "      <th>20</th>\n",
       "      <td>none</td>\n",
       "      <td>FIRST UNION &lt;FUNC&gt; FILES 100 MLN DLR NOTES ISSUE</td>\n",
       "      <td>First Union Corp said it has filed with the Se...</td>\n",
       "    </tr>\n",
       "    <tr>\n",
       "      <th>39</th>\n",
       "      <td>none</td>\n",
       "      <td>ARGENTINA COULD SUSPEND DEBT PAYMENTS - DEPUTY</td>\n",
       "      <td>Argentina could suspend payments on its foreig...</td>\n",
       "    </tr>\n",
       "    <tr>\n",
       "      <th>...</th>\n",
       "      <td>...</td>\n",
       "      <td>...</td>\n",
       "      <td>...</td>\n",
       "    </tr>\n",
       "    <tr>\n",
       "      <th>12554</th>\n",
       "      <td>none</td>\n",
       "      <td>WORLD BANK EXTENDS 241 MLN DLRS IN AFRICAN LOANS</td>\n",
       "      <td>The World Bank said it has extended loans tota...</td>\n",
       "    </tr>\n",
       "    <tr>\n",
       "      <th>12593</th>\n",
       "      <td>none</td>\n",
       "      <td>IMF APPROVES 48 MLN DLR LOAN TO ASSIST ECUADOR</td>\n",
       "      <td>The International Monetary Fund said it approv...</td>\n",
       "    </tr>\n",
       "    <tr>\n",
       "      <th>12605</th>\n",
       "      <td>none</td>\n",
       "      <td>EXPORT CREDIT BANK FOUNDED BY CARIBBEAN NATIONS</td>\n",
       "      <td>Finance ministers from the 13member Caribbean ...</td>\n",
       "    </tr>\n",
       "    <tr>\n",
       "      <th>12638</th>\n",
       "      <td>none</td>\n",
       "      <td>AQUINO SAYS GROWTH HAS PRIORITY OVER DEBT PAYM...</td>\n",
       "      <td>President Corazon Aquino said economic growth ...</td>\n",
       "    </tr>\n",
       "    <tr>\n",
       "      <th>13018</th>\n",
       "      <td>none</td>\n",
       "      <td>BRAZIL WILL LIFT MORATORIUM ONLY AFTER BANK PACT</td>\n",
       "      <td>Brazil will only lift the partial moratorium o...</td>\n",
       "    </tr>\n",
       "  </tbody>\n",
       "</table>\n",
       "<p>2051 rows × 3 columns</p>\n",
       "</div>"
      ],
      "text/plain": [
       "      TOPICS                                              TITLE  \\\n",
       "3       none                  USX <X> DEBT DOWGRADED BY MOODY'S   \n",
       "12      none   HUGHES CAPITAL UNIT SIGNS PACT WITH BEAR STEARNS   \n",
       "16      none     BANKERS REPORT BREAKTHROUGH ON VENEZUELAN DEBT   \n",
       "20      none   FIRST UNION <FUNC> FILES 100 MLN DLR NOTES ISSUE   \n",
       "39      none     ARGENTINA COULD SUSPEND DEBT PAYMENTS - DEPUTY   \n",
       "...      ...                                                ...   \n",
       "12554   none   WORLD BANK EXTENDS 241 MLN DLRS IN AFRICAN LOANS   \n",
       "12593   none     IMF APPROVES 48 MLN DLR LOAN TO ASSIST ECUADOR   \n",
       "12605   none    EXPORT CREDIT BANK FOUNDED BY CARIBBEAN NATIONS   \n",
       "12638   none  AQUINO SAYS GROWTH HAS PRIORITY OVER DEBT PAYM...   \n",
       "13018   none   BRAZIL WILL LIFT MORATORIUM ONLY AFTER BANK PACT   \n",
       "\n",
       "                                                    BODY  \n",
       "3      Moodys Investors Service Inc said it lowered t...  \n",
       "12     HughesConserdyne Corp a unit of Hughes Capital...  \n",
       "16     Venezuela and its bank advisory committee have...  \n",
       "20     First Union Corp said it has filed with the Se...  \n",
       "39     Argentina could suspend payments on its foreig...  \n",
       "...                                                  ...  \n",
       "12554  The World Bank said it has extended loans tota...  \n",
       "12593  The International Monetary Fund said it approv...  \n",
       "12605  Finance ministers from the 13member Caribbean ...  \n",
       "12638  President Corazon Aquino said economic growth ...  \n",
       "13018  Brazil will only lift the partial moratorium o...  \n",
       "\n",
       "[2051 rows x 3 columns]"
      ]
     },
     "execution_count": 5,
     "metadata": {},
     "output_type": "execute_result"
    }
   ],
   "source": [
    "#test is okay removed\n",
    "data[data[\"TOPICS\"]=='none']"
   ]
  },
  {
   "cell_type": "code",
   "execution_count": 6,
   "id": "26258bbc-2b67-4a2a-a5ad-fa9e1b3b0b18",
   "metadata": {
    "tags": []
   },
   "outputs": [],
   "source": [
    "data_topicNone=data[data[\"TOPICS\"]=='none']#will be used later to be predicated\n",
    "data=data[data[\"TOPICS\"]!='none']"
   ]
  },
  {
   "cell_type": "code",
   "execution_count": 7,
   "id": "c57ae957-282b-452b-9703-936c429f8010",
   "metadata": {
    "tags": []
   },
   "outputs": [
    {
     "data": {
      "text/plain": [
       "0"
      ]
     },
     "execution_count": 7,
     "metadata": {},
     "output_type": "execute_result"
    }
   ],
   "source": [
    "len(data[data[\"TOPICS\"]==\"none\"])\n",
    "#missed data, will be filled later by the clustering algorithm"
   ]
  },
  {
   "cell_type": "code",
   "execution_count": 8,
   "id": "88b8b7ca-fbdb-459f-ba24-a733d8abcae5",
   "metadata": {
    "tags": []
   },
   "outputs": [
    {
     "data": {
      "text/html": [
       "<div>\n",
       "<style scoped>\n",
       "    .dataframe tbody tr th:only-of-type {\n",
       "        vertical-align: middle;\n",
       "    }\n",
       "\n",
       "    .dataframe tbody tr th {\n",
       "        vertical-align: top;\n",
       "    }\n",
       "\n",
       "    .dataframe thead th {\n",
       "        text-align: right;\n",
       "    }\n",
       "</style>\n",
       "<table border=\"1\" class=\"dataframe\">\n",
       "  <thead>\n",
       "    <tr style=\"text-align: right;\">\n",
       "      <th></th>\n",
       "      <th>TOPICS</th>\n",
       "      <th>TITLE</th>\n",
       "      <th>BODY</th>\n",
       "      <th>TOPICS CODE</th>\n",
       "    </tr>\n",
       "  </thead>\n",
       "  <tbody>\n",
       "    <tr>\n",
       "      <th>0</th>\n",
       "      <td>cocoa</td>\n",
       "      <td>BAHIA COCOA REVIEW</td>\n",
       "      <td>Showers continued throughout the week in the B...</td>\n",
       "      <td>6</td>\n",
       "    </tr>\n",
       "    <tr>\n",
       "      <th>1</th>\n",
       "      <td>grain</td>\n",
       "      <td>NATIONAL AVERAGE PRICES FOR FARMER-OWNED RESERVE</td>\n",
       "      <td>The US Agriculture Department reported the far...</td>\n",
       "      <td>23</td>\n",
       "    </tr>\n",
       "    <tr>\n",
       "      <th>2</th>\n",
       "      <td>veg-oil</td>\n",
       "      <td>ARGENTINE 1986/87 GRAIN/OILSEED REGISTRATIONS</td>\n",
       "      <td>Argentine grain board figures show crop regist...</td>\n",
       "      <td>75</td>\n",
       "    </tr>\n",
       "    <tr>\n",
       "      <th>4</th>\n",
       "      <td>earn</td>\n",
       "      <td>CHAMPION PRODUCTS &lt;CH&gt; APPROVES STOCK SPLIT</td>\n",
       "      <td>Champion Products Inc said its board of direct...</td>\n",
       "      <td>16</td>\n",
       "    </tr>\n",
       "    <tr>\n",
       "      <th>5</th>\n",
       "      <td>acq</td>\n",
       "      <td>COMPUTER TERMINAL SYSTEMS &lt;CPML&gt; COMPLETES SALE</td>\n",
       "      <td>Computer Terminal Systems Inc said it has comp...</td>\n",
       "      <td>0</td>\n",
       "    </tr>\n",
       "    <tr>\n",
       "      <th>6</th>\n",
       "      <td>earn</td>\n",
       "      <td>COBANCO INC &lt;CBCO&gt; YEAR NET</td>\n",
       "      <td>Shr 34 cts vs 119 dlrs Net 807000 vs 2858000 A...</td>\n",
       "      <td>16</td>\n",
       "    </tr>\n",
       "    <tr>\n",
       "      <th>7</th>\n",
       "      <td>earn</td>\n",
       "      <td>OHIO MATTRESS &lt;OMT&gt; MAY HAVE LOWER 1ST QTR NET</td>\n",
       "      <td>Ohio Mattress Co said its first quarter ending...</td>\n",
       "      <td>16</td>\n",
       "    </tr>\n",
       "  </tbody>\n",
       "</table>\n",
       "</div>"
      ],
      "text/plain": [
       "    TOPICS                                             TITLE  \\\n",
       "0    cocoa                                BAHIA COCOA REVIEW   \n",
       "1    grain  NATIONAL AVERAGE PRICES FOR FARMER-OWNED RESERVE   \n",
       "2  veg-oil     ARGENTINE 1986/87 GRAIN/OILSEED REGISTRATIONS   \n",
       "4     earn       CHAMPION PRODUCTS <CH> APPROVES STOCK SPLIT   \n",
       "5      acq   COMPUTER TERMINAL SYSTEMS <CPML> COMPLETES SALE   \n",
       "6     earn                       COBANCO INC <CBCO> YEAR NET   \n",
       "7     earn    OHIO MATTRESS <OMT> MAY HAVE LOWER 1ST QTR NET   \n",
       "\n",
       "                                                BODY  TOPICS CODE  \n",
       "0  Showers continued throughout the week in the B...            6  \n",
       "1  The US Agriculture Department reported the far...           23  \n",
       "2  Argentine grain board figures show crop regist...           75  \n",
       "4  Champion Products Inc said its board of direct...           16  \n",
       "5  Computer Terminal Systems Inc said it has comp...            0  \n",
       "6  Shr 34 cts vs 119 dlrs Net 807000 vs 2858000 A...           16  \n",
       "7  Ohio Mattress Co said its first quarter ending...           16  "
      ]
     },
     "execution_count": 8,
     "metadata": {},
     "output_type": "execute_result"
    }
   ],
   "source": [
    "from sklearn.preprocessing import LabelEncoder\n",
    "label_encoder=LabelEncoder()\n",
    "data['TOPICS CODE'] = label_encoder.fit_transform(data['TOPICS'])\n",
    "data.head(7)"
   ]
  },
  {
   "cell_type": "code",
   "execution_count": 24,
   "id": "7620a1b0-3768-42ee-a2cf-15cb95424626",
   "metadata": {
    "tags": []
   },
   "outputs": [
    {
     "name": "stdout",
     "output_type": "stream",
     "text": [
      "81\n"
     ]
    }
   ],
   "source": [
    "#get distnict topics\n",
    "distinictTypes=set(data[\"TOPICS\"].values)\n",
    "print(len(distinictTypes))"
   ]
  },
  {
   "cell_type": "code",
   "execution_count": null,
   "id": "0e6431e9-2380-491a-bab6-572256b3fe99",
   "metadata": {},
   "outputs": [],
   "source": [
    "# download nltk\n",
    "import nltk\n",
    "nltk.download('all')"
   ]
  },
  {
   "cell_type": "markdown",
   "id": "3b0492ae-eb9d-414a-8141-161a669d96f2",
   "metadata": {
    "tags": []
   },
   "source": [
    "## sample to easy computation , more prepare words"
   ]
  },
  {
   "cell_type": "code",
   "execution_count": 16,
   "id": "f35e1a18-5866-4e16-9f12-5bb7a4f3e464",
   "metadata": {
    "tags": []
   },
   "outputs": [
    {
     "data": {
      "text/html": [
       "<div>\n",
       "<style scoped>\n",
       "    .dataframe tbody tr th:only-of-type {\n",
       "        vertical-align: middle;\n",
       "    }\n",
       "\n",
       "    .dataframe tbody tr th {\n",
       "        vertical-align: top;\n",
       "    }\n",
       "\n",
       "    .dataframe thead th {\n",
       "        text-align: right;\n",
       "    }\n",
       "</style>\n",
       "<table border=\"1\" class=\"dataframe\">\n",
       "  <thead>\n",
       "    <tr style=\"text-align: right;\">\n",
       "      <th></th>\n",
       "      <th>TOPICS</th>\n",
       "      <th>TITLE</th>\n",
       "      <th>BODY</th>\n",
       "      <th>TOPICS CODE</th>\n",
       "    </tr>\n",
       "  </thead>\n",
       "  <tbody>\n",
       "    <tr>\n",
       "      <th>0</th>\n",
       "      <td>cocoa</td>\n",
       "      <td>BAHIA COCOA REVIEW</td>\n",
       "      <td>Showers continued throughout the week in the B...</td>\n",
       "      <td>6</td>\n",
       "    </tr>\n",
       "    <tr>\n",
       "      <th>1</th>\n",
       "      <td>grain</td>\n",
       "      <td>NATIONAL AVERAGE PRICES FOR FARMER-OWNED RESERVE</td>\n",
       "      <td>The US Agriculture Department reported the far...</td>\n",
       "      <td>23</td>\n",
       "    </tr>\n",
       "    <tr>\n",
       "      <th>2</th>\n",
       "      <td>veg-oil</td>\n",
       "      <td>ARGENTINE 1986/87 GRAIN/OILSEED REGISTRATIONS</td>\n",
       "      <td>Argentine grain board figures show crop regist...</td>\n",
       "      <td>75</td>\n",
       "    </tr>\n",
       "    <tr>\n",
       "      <th>3</th>\n",
       "      <td>earn</td>\n",
       "      <td>CHAMPION PRODUCTS &lt;CH&gt; APPROVES STOCK SPLIT</td>\n",
       "      <td>Champion Products Inc said its board of direct...</td>\n",
       "      <td>16</td>\n",
       "    </tr>\n",
       "    <tr>\n",
       "      <th>4</th>\n",
       "      <td>acq</td>\n",
       "      <td>COMPUTER TERMINAL SYSTEMS &lt;CPML&gt; COMPLETES SALE</td>\n",
       "      <td>Computer Terminal Systems Inc said it has comp...</td>\n",
       "      <td>0</td>\n",
       "    </tr>\n",
       "    <tr>\n",
       "      <th>...</th>\n",
       "      <td>...</td>\n",
       "      <td>...</td>\n",
       "      <td>...</td>\n",
       "      <td>...</td>\n",
       "    </tr>\n",
       "    <tr>\n",
       "      <th>10863</th>\n",
       "      <td>earn</td>\n",
       "      <td>EASTERN UTILITIES ASSOCIATES 3RD QTR NET</td>\n",
       "      <td>Shr 86 cts vs 74 cts Net 111 mln vs 86 mln Rev...</td>\n",
       "      <td>16</td>\n",
       "    </tr>\n",
       "    <tr>\n",
       "      <th>10864</th>\n",
       "      <td>trade</td>\n",
       "      <td>EC, U.S. PLAN HIGH-LEVEL TRADE TALKS</td>\n",
       "      <td>The European Community is willing to offer lim...</td>\n",
       "      <td>74</td>\n",
       "    </tr>\n",
       "    <tr>\n",
       "      <th>10865</th>\n",
       "      <td>crude</td>\n",
       "      <td>BRITAIN BACKS U.S. STRIKE ON IRAN OIL PLATFORM</td>\n",
       "      <td>British Foreign Secretary Sir Geoffrey Howe ba...</td>\n",
       "      <td>14</td>\n",
       "    </tr>\n",
       "    <tr>\n",
       "      <th>10866</th>\n",
       "      <td>acq</td>\n",
       "      <td>SIMON AND SCHUSTER TO ACQUIRE WOODHEAD-FAULKNE...</td>\n",
       "      <td>SIMON AND SCHUSTER TO ACQUIRE WOODHEADFAULKNER...</td>\n",
       "      <td>0</td>\n",
       "    </tr>\n",
       "    <tr>\n",
       "      <th>10867</th>\n",
       "      <td>acq</td>\n",
       "      <td>CCR VIDEO&lt;CCCR.O&gt; GETS OFFER ON TAKEOVER TALKS</td>\n",
       "      <td>CCR Video Corp said it received an offer to en...</td>\n",
       "      <td>0</td>\n",
       "    </tr>\n",
       "  </tbody>\n",
       "</table>\n",
       "<p>10868 rows × 4 columns</p>\n",
       "</div>"
      ],
      "text/plain": [
       "        TOPICS                                              TITLE  \\\n",
       "0        cocoa                                 BAHIA COCOA REVIEW   \n",
       "1        grain   NATIONAL AVERAGE PRICES FOR FARMER-OWNED RESERVE   \n",
       "2      veg-oil      ARGENTINE 1986/87 GRAIN/OILSEED REGISTRATIONS   \n",
       "3         earn        CHAMPION PRODUCTS <CH> APPROVES STOCK SPLIT   \n",
       "4          acq    COMPUTER TERMINAL SYSTEMS <CPML> COMPLETES SALE   \n",
       "...        ...                                                ...   \n",
       "10863     earn           EASTERN UTILITIES ASSOCIATES 3RD QTR NET   \n",
       "10864    trade               EC, U.S. PLAN HIGH-LEVEL TRADE TALKS   \n",
       "10865    crude     BRITAIN BACKS U.S. STRIKE ON IRAN OIL PLATFORM   \n",
       "10866      acq  SIMON AND SCHUSTER TO ACQUIRE WOODHEAD-FAULKNE...   \n",
       "10867      acq     CCR VIDEO<CCCR.O> GETS OFFER ON TAKEOVER TALKS   \n",
       "\n",
       "                                                    BODY  TOPICS CODE  \n",
       "0      Showers continued throughout the week in the B...            6  \n",
       "1      The US Agriculture Department reported the far...           23  \n",
       "2      Argentine grain board figures show crop regist...           75  \n",
       "3      Champion Products Inc said its board of direct...           16  \n",
       "4      Computer Terminal Systems Inc said it has comp...            0  \n",
       "...                                                  ...          ...  \n",
       "10863  Shr 86 cts vs 74 cts Net 111 mln vs 86 mln Rev...           16  \n",
       "10864  The European Community is willing to offer lim...           74  \n",
       "10865  British Foreign Secretary Sir Geoffrey Howe ba...           14  \n",
       "10866  SIMON AND SCHUSTER TO ACQUIRE WOODHEADFAULKNER...            0  \n",
       "10867  CCR Video Corp said it received an offer to en...            0  \n",
       "\n",
       "[10868 rows x 4 columns]"
      ]
     },
     "execution_count": 16,
     "metadata": {},
     "output_type": "execute_result"
    }
   ],
   "source": [
    "#classify where X is TITLE,BODY ,y is TOPIC\n",
    "import numpy as np\n",
    "#take random simple to easy computation\n",
    "sample = data#data.sample(n=500, replace=True,random_state=123) \n",
    "sample = sample.reset_index(drop=True)#to make index from 0\n",
    "sample"
   ]
  },
  {
   "cell_type": "code",
   "execution_count": 14,
   "id": "21ca4c58-70a6-4428-9781-e191488ac681",
   "metadata": {
    "tags": []
   },
   "outputs": [],
   "source": [
    "import re\n",
    "from nltk.corpus import stopwords\n",
    "from nltk.stem import WordNetLemmatizer\n",
    "from nltk.stem import PorterStemmer\n",
    "def lemmatize(column):\n",
    "    text = list(column)\n",
    "    lemmatizer = WordNetLemmatizer()\n",
    "    corpus = []\n",
    "    stemmer = PorterStemmer()\n",
    "    for i in range(len(text)):\n",
    "        r = re.sub('[^a-zA-Z]', ' ', text[i])\n",
    "        r = r.lower()\n",
    "        r = r.split()\n",
    "        r = [word for word in r if word not in stopwords.words('english')]\n",
    "        r = [lemmatizer.lemmatize(word) for word in r]\n",
    "        r = [stemmer.stem(word) for word in r]\n",
    "        r = ' '.join(r)\n",
    "        corpus.append(r)\n",
    "    return corpus    "
   ]
  },
  {
   "cell_type": "code",
   "execution_count": 17,
   "id": "44218e96-a628-4c5a-8ee9-61ae71032fd5",
   "metadata": {
    "tags": []
   },
   "outputs": [],
   "source": [
    "sample['TITLE']=lemmatize(sample['TITLE'])\n",
    "sample['BODY']=lemmatize(sample['BODY'])\n",
    "\n"
   ]
  },
  {
   "cell_type": "code",
   "execution_count": null,
   "id": "d80db406-9412-4a0e-93db-15a3d3938002",
   "metadata": {
    "tags": []
   },
   "outputs": [],
   "source": [
    "sample.head()\n"
   ]
  },
  {
   "cell_type": "markdown",
   "id": "3444aa02-11a4-490d-81b7-49596ccfc124",
   "metadata": {},
   "source": [
    "## tf-idf of clomn \"body\""
   ]
  },
  {
   "cell_type": "code",
   "execution_count": null,
   "id": "16519836-d600-4569-a95d-ab5a086292b8",
   "metadata": {
    "tags": []
   },
   "outputs": [],
   "source": [
    "from sklearn.feature_extraction.text import TfidfVectorizer\n",
    "tf_idf = TfidfVectorizer()\n",
    "tf_idf_matrix = tf_idf.fit_transform(sample['BODY'].values)\n",
    "tf_idf_matrix_arr = tf_idf_matrix.toarray()\n",
    "tf_idf_matrix_arr = pd.DataFrame(tf_idf_matrix_arr, columns=tf_idf.get_feature_names_out())\n",
    "tf_idf_matrix_arr"
   ]
  },
  {
   "cell_type": "code",
   "execution_count": null,
   "id": "ca31d9bd-c75d-4784-8d2f-3a01571ee58e",
   "metadata": {
    "tags": []
   },
   "outputs": [],
   "source": [
    "# Calculate the average TF-IDF score for each term\n",
    "average_scores = tf_idf_matrix_arr.mean()\n",
    "average_scores"
   ]
  },
  {
   "cell_type": "code",
   "execution_count": null,
   "id": "1261089c-1266-465e-b219-feaf667268e0",
   "metadata": {
    "tags": []
   },
   "outputs": [],
   "source": [
    "# Find the top 5 terms with the highest average TF-IDF scores\n",
    "top_terms = average_scores.nlargest(5)\n",
    "\n",
    "print(\"Top 5 Terms with Highest Average TF-IDF Scores:\")\n",
    "for term, score in top_terms.iteritems():\n",
    "    print(term, \":\", score)"
   ]
  },
  {
   "cell_type": "markdown",
   "id": "efa24609-3d42-460d-974a-bc61f9adb4f0",
   "metadata": {},
   "source": [
    "## visualize"
   ]
  },
  {
   "cell_type": "markdown",
   "id": "8dd2862f-0538-48bb-a1c7-f7b7aeedfc70",
   "metadata": {
    "tags": []
   },
   "source": [
    "### barplot of word count"
   ]
  },
  {
   "cell_type": "code",
   "execution_count": null,
   "id": "5b134404-1239-4fcb-b116-af9bd9f565bd",
   "metadata": {
    "tags": []
   },
   "outputs": [],
   "source": [
    "import matplotlib.pyplot as plt\n",
    "topic_counts = sample['BODY'].value_counts()\n",
    "# Plot the bar chart\n",
    "plt.figure(figsize=(10, 6))\n",
    "plt.bar(topic_counts.index, topic_counts.values)\n",
    "plt.title('Topic Distribution')\n",
    "plt.xlabel('Topic')\n",
    "plt.ylabel('Count')\n",
    "plt.xticks(rotation=90)\n",
    "plt.show()"
   ]
  },
  {
   "cell_type": "markdown",
   "id": "40bd799c-fbd2-4f22-8c14-27b36611be50",
   "metadata": {},
   "source": [
    "### wordcloud"
   ]
  },
  {
   "cell_type": "code",
   "execution_count": null,
   "id": "2de60f44-2170-4c04-ba85-5abf677c6b2a",
   "metadata": {},
   "outputs": [],
   "source": [
    "!pip install WordCloud"
   ]
  },
  {
   "cell_type": "code",
   "execution_count": null,
   "id": "d37f56e6-02ed-439d-a77e-1de24703ade1",
   "metadata": {
    "tags": []
   },
   "outputs": [],
   "source": [
    "from wordcloud import WordCloud\n",
    "import matplotlib.pyplot as plt\n",
    "\n",
    "\n",
    "wordcloud = WordCloud(width=800, height=400, background_color='white').generate(sample['BODY'].astype(str).str.cat(sep=' '))\n",
    "\n",
    "# Display the generated image:\n",
    "plt.figure(figsize=(10, 5))\n",
    "plt.imshow(wordcloud, interpolation='bilinear')\n",
    "plt.axis('off')\n",
    "plt.show()\n"
   ]
  },
  {
   "cell_type": "markdown",
   "id": "d6d5b1fb-b382-46bc-b688-083a89fca7cf",
   "metadata": {
    "tags": []
   },
   "source": [
    "## analysis"
   ]
  },
  {
   "cell_type": "markdown",
   "id": "573ec996-5b2b-49f5-ac6d-374ff9261b55",
   "metadata": {},
   "source": [
    "### NN classify is returs or not"
   ]
  },
  {
   "cell_type": "code",
   "execution_count": 18,
   "id": "b868ab4c-5b04-4b00-bd1a-4415ed759a11",
   "metadata": {
    "tags": []
   },
   "outputs": [
    {
     "data": {
      "text/plain": [
       "(7607, 2)"
      ]
     },
     "execution_count": 18,
     "metadata": {},
     "output_type": "execute_result"
    }
   ],
   "source": [
    "from sklearn.model_selection import train_test_split\n",
    "X_train, X_, y_train, y_ = train_test_split(sample[['TITLE','BODY']], sample['TOPICS CODE'], test_size=0.3, random_state=123)\n",
    "X_cv, X_test, y_cv, y_test = train_test_split(X_, y_, test_size=0.5, random_state=123)\n",
    "del(X_)\n",
    "del(y_)\n",
    "X_train.shape"
   ]
  },
  {
   "cell_type": "code",
   "execution_count": 19,
   "id": "1f03c692-ff50-4c6d-9830-b98ed1c779cb",
   "metadata": {
    "tags": []
   },
   "outputs": [],
   "source": [
    "from sklearn.feature_extraction.text import CountVectorizer\n",
    "from scipy.sparse import hstack\n",
    "\n",
    "def vectorize(df,df_cv,df_tst):\n",
    "    vectorizer1 = CountVectorizer()\n",
    "    df_Title = vectorizer1.fit_transform(df['TITLE'])\n",
    "    df_cv_title=vectorizer1.transform(df_cv['TITLE'])\n",
    "    df_tst_title=vectorizer1.transform(df_tst['TITLE'])\n",
    "\n",
    "    \n",
    "    vectorizer2 = CountVectorizer()\n",
    "    df_body = vectorizer2.fit_transform(df['BODY'])\n",
    "    df_cv_body=vectorizer2.transform(df_cv['BODY'])\n",
    "    df_tst_body=vectorizer2.transform(df_tst['BODY'])\n",
    "\n",
    "    df_combined = hstack([df_Title,df_body])\n",
    "    df_cv_combined = hstack([df_cv_title,df_cv_body])\n",
    "    df_tst_combined = hstack([df_tst_title,df_tst_body])\n",
    "\n",
    "    return (df_combined,df_cv_combined,df_tst_combined)"
   ]
  },
  {
   "cell_type": "code",
   "execution_count": 20,
   "id": "a7f1f6d4-19ac-4be5-8380-d8d0f79931d8",
   "metadata": {
    "tags": []
   },
   "outputs": [],
   "source": [
    "vc_train,vc_cv,vc_test=vectorize(X_train,X_cv,X_test)\n"
   ]
  },
  {
   "cell_type": "code",
   "execution_count": 21,
   "id": "fea9847b-e208-440c-85c3-846cee5523fb",
   "metadata": {
    "tags": []
   },
   "outputs": [
    {
     "data": {
      "text/plain": [
       "(1630, 25464)"
      ]
     },
     "execution_count": 21,
     "metadata": {},
     "output_type": "execute_result"
    }
   ],
   "source": [
    "vc_cv.shape"
   ]
  },
  {
   "cell_type": "code",
   "execution_count": 22,
   "id": "e2cc2ae0-7cb0-4e1e-b1fd-1a583d11c4bb",
   "metadata": {
    "tags": []
   },
   "outputs": [
    {
     "data": {
      "text/plain": [
       "(1630,)"
      ]
     },
     "execution_count": 22,
     "metadata": {},
     "output_type": "execute_result"
    }
   ],
   "source": [
    "y_cv.shape"
   ]
  },
  {
   "cell_type": "code",
   "execution_count": 25,
   "id": "d98e13ea-7136-45a7-81cd-d4817375e3d5",
   "metadata": {
    "tags": []
   },
   "outputs": [
    {
     "name": "stdout",
     "output_type": "stream",
     "text": [
      "Epoch 1/10\n",
      "238/238 [==============================] - 12s 45ms/step - loss: 1.3096 - accuracy: 0.7320\n",
      "Epoch 2/10\n",
      "238/238 [==============================] - 13s 53ms/step - loss: 0.3137 - accuracy: 0.9314\n",
      "Epoch 3/10\n",
      "238/238 [==============================] - 12s 49ms/step - loss: 0.1138 - accuracy: 0.9753\n",
      "Epoch 4/10\n",
      "238/238 [==============================] - 11s 47ms/step - loss: 0.0639 - accuracy: 0.9845\n",
      "Epoch 5/10\n",
      "238/238 [==============================] - 11s 48ms/step - loss: 0.0369 - accuracy: 0.9896\n",
      "Epoch 6/10\n",
      "238/238 [==============================] - 11s 46ms/step - loss: 0.0309 - accuracy: 0.9913\n",
      "Epoch 7/10\n",
      "238/238 [==============================] - 11s 45ms/step - loss: 0.0206 - accuracy: 0.9934\n",
      "Epoch 8/10\n",
      "238/238 [==============================] - 10s 43ms/step - loss: 0.0195 - accuracy: 0.9933\n",
      "Epoch 9/10\n",
      "238/238 [==============================] - 10s 44ms/step - loss: 0.0187 - accuracy: 0.9941\n",
      "Epoch 10/10\n",
      "238/238 [==============================] - 11s 44ms/step - loss: 0.0152 - accuracy: 0.9949\n",
      "51/51 [==============================] - 1s 9ms/step - loss: 0.6723 - accuracy: 0.8908\n",
      "Test Loss: 0.6723, Test Accuracy: 89.08%\n"
     ]
    }
   ],
   "source": [
    "\n",
    "from tensorflow import keras\n",
    "model = keras.Sequential([\n",
    "    keras.layers.Dense(100, activation='relu'),  \n",
    "    keras.layers.Dense(100, activation='relu'),  \n",
    "    keras.layers.Dense(100, activation='relu'),  \n",
    "    keras.layers.Dense(len(distinictTypes), activation='softmax')  \n",
    "])\n",
    "\n",
    "model.compile(optimizer='adam', loss='SparseCategoricalCrossentropy', metrics=['accuracy'])\n",
    "model.fit(np.array(vc_train.toarray()), y_train, epochs=10,batch_size=32)\n",
    "loss, accuracy = model.evaluate(np.array(vc_cv.toarray()), y_cv)\n",
    "print(f\"Test Loss: {loss:.4f}, Test Accuracy: {accuracy*100:.2f}%\")\n"
   ]
  },
  {
   "cell_type": "code",
   "execution_count": 26,
   "id": "bf0ff1a3-6a2d-4ef0-ba74-f91ff94b9ec3",
   "metadata": {
    "tags": []
   },
   "outputs": [
    {
     "name": "stdout",
     "output_type": "stream",
     "text": [
      "51/51 [==============================] - 0s 8ms/step - loss: 0.6876 - accuracy: 0.8761\n",
      "Test Loss: 0.6876, Test Accuracy: 87.61%\n"
     ]
    }
   ],
   "source": [
    "loss, accuracy = model.evaluate(np.array(vc_test.toarray()), y_test)\n",
    "print(f\"Test Loss: {loss:.4f}, Test Accuracy: {accuracy*100:.2f}%\")"
   ]
  },
  {
   "cell_type": "code",
   "execution_count": 30,
   "id": "165a18f7-93fd-4030-a063-7555090f539a",
   "metadata": {
    "tags": []
   },
   "outputs": [],
   "source": [
    "#save model\n",
    "model.save('NN_model_all_data_without_none.h5')\n"
   ]
  },
  {
   "cell_type": "code",
   "execution_count": 28,
   "id": "e229344c-7323-48ae-aa10-eb42af14bbb5",
   "metadata": {
    "tags": []
   },
   "outputs": [
    {
     "data": {
      "text/plain": [
       "<2051x25464 sparse matrix of type '<class 'numpy.int64'>'\n",
       "\twith 71721 stored elements in Compressed Sparse Row format>"
      ]
     },
     "execution_count": 28,
     "metadata": {},
     "output_type": "execute_result"
    }
   ],
   "source": [
    "## predict for none topic-given data\n",
    "vec = CountVectorizer()#this to get the countvectorizer used in training model\n",
    "vec_title = vec.fit_transform(X_train['TITLE'])\n",
    "vec2 = CountVectorizer()\n",
    "vec_BODY = vec2.fit_transform(X_train['BODY'])\n",
    "\n",
    "data_topicNone_title=vec.transform(data_topicNone['TITLE'])\n",
    "data_topicNone_body=vec2.transform(data_topicNone['BODY'])\n",
    "\n",
    "data_topicNone_encoded = hstack([data_topicNone_title,data_topicNone_body])\n",
    "data_topicNone_encoded"
   ]
  },
  {
   "cell_type": "code",
   "execution_count": 34,
   "id": "ca1abd9f-1837-42ae-9df6-daab9b221161",
   "metadata": {
    "tags": []
   },
   "outputs": [
    {
     "name": "stdout",
     "output_type": "stream",
     "text": [
      "65/65 [==============================] - 0s 2ms/step\n"
     ]
    },
    {
     "data": {
      "text/html": [
       "<div>\n",
       "<style scoped>\n",
       "    .dataframe tbody tr th:only-of-type {\n",
       "        vertical-align: middle;\n",
       "    }\n",
       "\n",
       "    .dataframe tbody tr th {\n",
       "        vertical-align: top;\n",
       "    }\n",
       "\n",
       "    .dataframe thead th {\n",
       "        text-align: right;\n",
       "    }\n",
       "</style>\n",
       "<table border=\"1\" class=\"dataframe\">\n",
       "  <thead>\n",
       "    <tr style=\"text-align: right;\">\n",
       "      <th></th>\n",
       "      <th>TOPICS</th>\n",
       "      <th>TITLE</th>\n",
       "      <th>BODY</th>\n",
       "      <th>TOPICS CODE</th>\n",
       "    </tr>\n",
       "  </thead>\n",
       "  <tbody>\n",
       "    <tr>\n",
       "      <th>3</th>\n",
       "      <td>earn</td>\n",
       "      <td>USX &lt;X&gt; DEBT DOWGRADED BY MOODY'S</td>\n",
       "      <td>Moodys Investors Service Inc said it lowered t...</td>\n",
       "      <td>16</td>\n",
       "    </tr>\n",
       "    <tr>\n",
       "      <th>12</th>\n",
       "      <td>acq</td>\n",
       "      <td>HUGHES CAPITAL UNIT SIGNS PACT WITH BEAR STEARNS</td>\n",
       "      <td>HughesConserdyne Corp a unit of Hughes Capital...</td>\n",
       "      <td>0</td>\n",
       "    </tr>\n",
       "    <tr>\n",
       "      <th>16</th>\n",
       "      <td>interest</td>\n",
       "      <td>BANKERS REPORT BREAKTHROUGH ON VENEZUELAN DEBT</td>\n",
       "      <td>Venezuela and its bank advisory committee have...</td>\n",
       "      <td>31</td>\n",
       "    </tr>\n",
       "    <tr>\n",
       "      <th>20</th>\n",
       "      <td>acq</td>\n",
       "      <td>FIRST UNION &lt;FUNC&gt; FILES 100 MLN DLR NOTES ISSUE</td>\n",
       "      <td>First Union Corp said it has filed with the Se...</td>\n",
       "      <td>0</td>\n",
       "    </tr>\n",
       "    <tr>\n",
       "      <th>39</th>\n",
       "      <td>earn</td>\n",
       "      <td>ARGENTINA COULD SUSPEND DEBT PAYMENTS - DEPUTY</td>\n",
       "      <td>Argentina could suspend payments on its foreig...</td>\n",
       "      <td>16</td>\n",
       "    </tr>\n",
       "    <tr>\n",
       "      <th>...</th>\n",
       "      <td>...</td>\n",
       "      <td>...</td>\n",
       "      <td>...</td>\n",
       "      <td>...</td>\n",
       "    </tr>\n",
       "    <tr>\n",
       "      <th>12554</th>\n",
       "      <td>earn</td>\n",
       "      <td>WORLD BANK EXTENDS 241 MLN DLRS IN AFRICAN LOANS</td>\n",
       "      <td>The World Bank said it has extended loans tota...</td>\n",
       "      <td>16</td>\n",
       "    </tr>\n",
       "    <tr>\n",
       "      <th>12593</th>\n",
       "      <td>money-fx</td>\n",
       "      <td>IMF APPROVES 48 MLN DLR LOAN TO ASSIST ECUADOR</td>\n",
       "      <td>The International Monetary Fund said it approv...</td>\n",
       "      <td>43</td>\n",
       "    </tr>\n",
       "    <tr>\n",
       "      <th>12605</th>\n",
       "      <td>trade</td>\n",
       "      <td>EXPORT CREDIT BANK FOUNDED BY CARIBBEAN NATIONS</td>\n",
       "      <td>Finance ministers from the 13member Caribbean ...</td>\n",
       "      <td>74</td>\n",
       "    </tr>\n",
       "    <tr>\n",
       "      <th>12638</th>\n",
       "      <td>interest</td>\n",
       "      <td>AQUINO SAYS GROWTH HAS PRIORITY OVER DEBT PAYM...</td>\n",
       "      <td>President Corazon Aquino said economic growth ...</td>\n",
       "      <td>31</td>\n",
       "    </tr>\n",
       "    <tr>\n",
       "      <th>13018</th>\n",
       "      <td>earn</td>\n",
       "      <td>BRAZIL WILL LIFT MORATORIUM ONLY AFTER BANK PACT</td>\n",
       "      <td>Brazil will only lift the partial moratorium o...</td>\n",
       "      <td>16</td>\n",
       "    </tr>\n",
       "  </tbody>\n",
       "</table>\n",
       "<p>2051 rows × 4 columns</p>\n",
       "</div>"
      ],
      "text/plain": [
       "         TOPICS                                              TITLE  \\\n",
       "3          earn                  USX <X> DEBT DOWGRADED BY MOODY'S   \n",
       "12          acq   HUGHES CAPITAL UNIT SIGNS PACT WITH BEAR STEARNS   \n",
       "16     interest     BANKERS REPORT BREAKTHROUGH ON VENEZUELAN DEBT   \n",
       "20          acq   FIRST UNION <FUNC> FILES 100 MLN DLR NOTES ISSUE   \n",
       "39         earn     ARGENTINA COULD SUSPEND DEBT PAYMENTS - DEPUTY   \n",
       "...         ...                                                ...   \n",
       "12554      earn   WORLD BANK EXTENDS 241 MLN DLRS IN AFRICAN LOANS   \n",
       "12593  money-fx     IMF APPROVES 48 MLN DLR LOAN TO ASSIST ECUADOR   \n",
       "12605     trade    EXPORT CREDIT BANK FOUNDED BY CARIBBEAN NATIONS   \n",
       "12638  interest  AQUINO SAYS GROWTH HAS PRIORITY OVER DEBT PAYM...   \n",
       "13018      earn   BRAZIL WILL LIFT MORATORIUM ONLY AFTER BANK PACT   \n",
       "\n",
       "                                                    BODY  TOPICS CODE  \n",
       "3      Moodys Investors Service Inc said it lowered t...           16  \n",
       "12     HughesConserdyne Corp a unit of Hughes Capital...            0  \n",
       "16     Venezuela and its bank advisory committee have...           31  \n",
       "20     First Union Corp said it has filed with the Se...            0  \n",
       "39     Argentina could suspend payments on its foreig...           16  \n",
       "...                                                  ...          ...  \n",
       "12554  The World Bank said it has extended loans tota...           16  \n",
       "12593  The International Monetary Fund said it approv...           43  \n",
       "12605  Finance ministers from the 13member Caribbean ...           74  \n",
       "12638  President Corazon Aquino said economic growth ...           31  \n",
       "13018  Brazil will only lift the partial moratorium o...           16  \n",
       "\n",
       "[2051 rows x 4 columns]"
      ]
     },
     "execution_count": 34,
     "metadata": {},
     "output_type": "execute_result"
    }
   ],
   "source": [
    "predictions = model.predict(data_topicNone_encoded)\n",
    "predicted_class = np.argmax(predictions, axis=-1)\n",
    "data_topicNone['TOPICS']= label_encoder.inverse_transform(predicted_class)\n",
    "data_topicNone"
   ]
  },
  {
   "cell_type": "markdown",
   "id": "705ef758-0970-4e3e-bd28-9d55f099b967",
   "metadata": {},
   "source": [
    "### Markov to generate text same way as data"
   ]
  },
  {
   "cell_type": "code",
   "execution_count": null,
   "id": "278d94a1-4736-4eb5-ade8-98f9e84c485d",
   "metadata": {
    "tags": []
   },
   "outputs": [],
   "source": [
    "!pip install markovify"
   ]
  },
  {
   "cell_type": "code",
   "execution_count": 11,
   "id": "43f8d280-a266-43d3-9584-a7a8d17d57e9",
   "metadata": {
    "tags": []
   },
   "outputs": [],
   "source": [
    "######\n",
    "\n",
    "def load(data):    \n",
    "    corpus = \"\"\n",
    "    for i in range(len(data)):      \n",
    "            corpus += \" \"+data['BODY'][i]\n",
    "    return corpus\n"
   ]
  },
  {
   "cell_type": "code",
   "execution_count": 57,
   "id": "2af1bd10-8bcb-4d52-873b-eb6a5909e309",
   "metadata": {
    "tags": []
   },
   "outputs": [
    {
     "name": "stdout",
     "output_type": "stream",
     "text": [
      "\n",
      "None\n",
      "\n",
      "None\n",
      "\n",
      "REVLON BUYS GERMAINE MONTEIL COSMETICS FROM BEECHAM GROUP FOR UNDISCLOSED TERMS Pakistan bought 6000 tonnes for first three months after the incident Lloyds Shipping Intelligence reported The 315695dwt Arabian Sea had set aside for an incentive stock option plan Reuter\n",
      "\n",
      "None\n",
      "\n",
      "None\n",
      "\n"
     ]
    }
   ],
   "source": [
    "sample2 = data.sample(n=400, replace=True)\n",
    "sample2 = sample2.reset_index(drop=True)#to make index from 0\n",
    "\n",
    "import markovify\n",
    "import sys\n",
    "text = load(sample2)\n",
    "# Train model\n",
    "text_model = markovify.Text(text)\n",
    "\n",
    "# Generate sentences\n",
    "print()\n",
    "for i in range(5):\n",
    "    print(text_model.make_sentence(max_attempts=100))\n",
    "    print()\n"
   ]
  },
  {
   "cell_type": "markdown",
   "id": "74c080b0-af5e-4e29-a4d8-89186bc6aa19",
   "metadata": {},
   "source": [
    "## similarity"
   ]
  },
  {
   "cell_type": "code",
   "execution_count": null,
   "id": "d3d55a57-2b1b-4b7c-aec9-8fe20b73c6a4",
   "metadata": {
    "tags": []
   },
   "outputs": [],
   "source": [
    "from sklearn.feature_extraction.text import CountVectorizer\n",
    "from sklearn.metrics.pairwise import cosine_similarity\n",
    "import pandas as pd\n",
    "\n",
    "vectorizer = CountVectorizer()\n",
    "sam_body = vectorizer.fit_transform(sample['BODY'])\n",
    "\n",
    "# Compute the cosine similarity matrix\n",
    "cosine_sim_matrix = cosine_similarity(sam_body,sam_body)\n",
    "\n",
    "# Display the similarity matrix\n",
    "similarity_df = pd.DataFrame(cosine_sim_matrix, columns=sample.index, index=sample.index)\n",
    "\n"
   ]
  },
  {
   "cell_type": "code",
   "execution_count": null,
   "id": "30b60aa5-ed6a-4d9d-92af-459952ea15ff",
   "metadata": {
    "tags": []
   },
   "outputs": [],
   "source": [
    "similarity_df"
   ]
  },
  {
   "cell_type": "code",
   "execution_count": null,
   "id": "4c4b32c3-819a-4970-b529-42e62bb592a9",
   "metadata": {},
   "outputs": [],
   "source": [
    "# save to csv \n",
    "try:\n",
    "    similarity_df.to_csv('similarity_matrix.csv')\n",
    "    print(\"successfully created\")\n",
    "except Exception as e:\n",
    "    print(f\"Error saving the file: {e}\")"
   ]
  }
 ],
 "metadata": {
  "kernelspec": {
   "display_name": "Python 3 (ipykernel)",
   "language": "python",
   "name": "python3"
  },
  "language_info": {
   "codemirror_mode": {
    "name": "ipython",
    "version": 3
   },
   "file_extension": ".py",
   "mimetype": "text/x-python",
   "name": "python",
   "nbconvert_exporter": "python",
   "pygments_lexer": "ipython3",
   "version": "3.11.3"
  }
 },
 "nbformat": 4,
 "nbformat_minor": 5
}
